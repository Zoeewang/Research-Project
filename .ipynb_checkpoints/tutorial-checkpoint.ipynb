{
 "cells": [
  {
   "cell_type": "markdown",
   "metadata": {},
   "source": [
    "# Introduction"
   ]
  },
  {
   "cell_type": "markdown",
   "metadata": {},
   "source": [
    "Scholar is a framework for document modeling, much like LDA, but with the ability to flexibly incorporate metadata, with some similarity to the structural topic model. It can scale to large numbers of covariates, runs in python, and offers GPU support for fast exploration of a corpus of documents."
   ]
  },
  {
   "cell_type": "markdown",
   "metadata": {},
   "source": [
    "In this tutorial, we'll use a toy corpus of political press releases in order to demonstrate the functionality and interface of Scholar."
   ]
  },
  {
   "cell_type": "markdown",
   "metadata": {},
   "source": [
    "# Setup"
   ]
  },
  {
   "cell_type": "markdown",
   "metadata": {},
   "source": [
    "### Code\n",
    "\n",
    "If you're looking at this tutorial, you have presumably already downloaded/cloned the Scholar repo. If not, you can clone it using: \n",
    "\n",
    "`git clone git@github.com:dallascard/scholar.git`\n",
    "\n",
    "(if you don't have git set up, you can just download the repo from https://github.com/dallascard/scholar)\n",
    "\n",
    "Scholar has not yet been packaged us as a full python packge. As such, we will just run commands from the scholar directory, so switch into it:\n",
    "\n",
    "`cd /path/to/scholar`\n",
    "\n",
    "(the directory that contains this notebook)"
   ]
  },
  {
   "cell_type": "markdown",
   "metadata": {},
   "source": [
    "### Environment\n",
    "\n",
    "Create new python environment for running scholar. We recommend using Anaconda, but it is also possible to do this using virtualenv and pip. Assuming you are using conda, run the following three commands, one at a time, and follow the prompts:\n",
    "\n",
    "`conda create -n scholar python=3`\n",
    "\n",
    "`source activate scholar`\n",
    "\n",
    "`conda install ipython notebook numpy=1.15.4 scipy=1.1.0 pandas matplotlib gensim pytorch=1.0.0 torchvision -c pytorch`\n",
    "\n",
    "You should also now quit this notebook and reload it from with the scholar environment (i.e. after running `source activate scholar` in the shell)."
   ]
  },
  {
   "cell_type": "markdown",
   "metadata": {},
   "source": [
    "### Data\n",
    "\n",
    "For this tutorial, we'll be using a subset of the Congressional press release corpus created by Justin Grimmer.\n",
    "\n",
    "A compressed file with press releases from six senators can be found in this repo. To expand it, run\n",
    "\n",
    "`tar -xzf tutorial.tar.gz`\n",
    "\n",
    "which will create a  directory called  `tutorial/CongressPressExpand/`\n",
    "\n",
    "For those who are interested, the full dataset (Press.tar; 282Mb) can be downloaded from https://dataverse.harvard.edu/dataset.xhtml?persistentId=hdl:1902.1/14596"
   ]
  },
  {
   "cell_type": "markdown",
   "metadata": {},
   "source": [
    "### A note about reproducibility\n",
    "\n",
    "The results in this notebook should be basically reproducible, however, it seems that this depends on having the same version of certain packages. The code will still work with different versions, but the resulting topics may be different. Moreover, the results will be slightly different if using a GPU, and there may also be very small numerical differences on different machines.\n",
    "\n",
    "The results given here were obtained using the following environment:\n",
    "- python 3.7.1\n",
    "- pytorch 1.0.0\n",
    "- numpy 1.15.4"
   ]
  },
  {
   "cell_type": "markdown",
   "metadata": {},
   "source": [
    "# Data Import\n",
    "\n",
    "To use scholar, it is necessary to get the data into the proper format. To do this, the easiest thing to do is to write a script to convert the documents into a single file, where each line corresponds to one document, represented as a JSON object. Each JSON object should have at least one field called \"text\", but it can also contain other metadata fields.\n",
    "\n",
    "We have included a script to convert a subset of the Senatorial press releases into this format, which can be used as a starting point for your own project.\n",
    "\n",
    "If running this from the command line, it would be run as\n",
    "\n",
    "`python import_congress_press.py tutorial/CongressPressExpand tutorial/congress/`\n",
    "\n",
    "Since we are running this in a notebook, we will run it by importing the package, and calling the `main()` function with the corresponding arguments in a list."
   ]
  },
  {
   "cell_type": "code",
   "execution_count": 1,
   "metadata": {},
   "outputs": [
    {
     "name": "stdout",
     "output_type": "stream",
     "text": [
      "python import_congress_press.py tutorial/CongressPressExpand tutorial/congress\n",
      "274 files from Sanders\n",
      "709 files from Obama\n",
      "358 files from Klobuchar\n",
      "293 files from McCain\n",
      "614 files from Graham\n",
      "235 files from Coburn\n",
      "Saving files to tutorial/congress\n",
      "Done!\n"
     ]
    }
   ],
   "source": [
    "import import_congress_press\n",
    "script = 'import_congress_press.py'\n",
    "args = 'tutorial/CongressPressExpand tutorial/congress'\n",
    "print(\"python\", script, args)\n",
    "import_congress_press.main(args.split())"
   ]
  },
  {
   "cell_type": "markdown",
   "metadata": {},
   "source": [
    "This creates two files in the output directory (`/tutorial/congress/`):\n",
    "- `train.jsonlist` contains one press release per line, in JSON format, including fields for the text of the press release, as well as senator name, party, date, year, and month\n",
    "- `train.score.csv` contains DW-nominate scores for 6 senators from the 110th congress, with one score for each document in `train.jsonlist` (in the same order)."
   ]
  },
  {
   "cell_type": "markdown",
   "metadata": {},
   "source": [
    "To inspect a document, we can use the `json` library to load it"
   ]
  },
  {
   "cell_type": "code",
   "execution_count": 2,
   "metadata": {},
   "outputs": [
    {
     "name": "stdout",
     "output_type": "stream",
     "text": [
      "id : 10Apr2007Sanders238.txt\n",
      "text : SEIZE THE OPPORTUNITY FOR MAJOR BREAKTHROUGHS IN HEALTH CARE   The Senate this week is considering a bill, cosponsored by Sen. Bernie Sanders, that would expand and encourage federal funding of human embryonic stem cell research. President Bush in 2001 cut off federal funding for research involving new embryonic stem cells, which has dramatically stalled this critical area of medical research.      \"My hope is that, as a result of increased pressure from scientists, physicians and the American people, the president will change his position or, if he does not, that the Congress will have enough votes to override his veto and establish unrestricted federal funding for stem cell research,\" Sanders said. \"The potential is now available for major breakthroughs in Parkinson's disease, Alzheimer's, diabetes, spinal cord injury, stroke, heart disease and many other illnesses. We must seize the opportunity.\"     View a copy of the Bill - S. 5 at http://sanders.senate.gov/files/S_5.pdf    Read a summary of the bill - S. 5 at http://www.sanders.senate.gov/news/record.cfm?id=272151    Read a Congressional Research Service background report on stem cell research at http://sanders.senate.gov/files/Stem%20Cells.pdf.    \n",
      "senator : Sanders\n",
      "date : 10Apr2007\n",
      "year : 2007\n",
      "month : Apr\n",
      "party : D\n",
      "score : -0.717\n"
     ]
    }
   ],
   "source": [
    "import os\n",
    "import json\n",
    "with open(os.path.join('tutorial', 'congress', 'train.jsonlist')) as f:\n",
    "    lines = f.readlines()\n",
    "first_doc = json.loads(lines[0])\n",
    "for key, value in first_doc.items():\n",
    "    print(key, ':', value)"
   ]
  },
  {
   "cell_type": "markdown",
   "metadata": {},
   "source": [
    "If we had documents that we wanted to use as a test set, we could create a `test.jsonlist` object in the same manner."
   ]
  },
  {
   "cell_type": "markdown",
   "metadata": {},
   "source": [
    "# Preprocessing"
   ]
  },
  {
   "cell_type": "markdown",
   "metadata": {},
   "source": [
    "The next step is to use a preprocessing script we have provided to convert the documents from JSON format into a numerical representation. It works by creating a vocabulary, filtering out numbers, punctuation, and some other tokens, and saving the document-term count matrix. \n",
    "\n",
    "The preprocessing script can also simultaneously pull out various metadata attributes (like author or year) from the JSON objects, and convert them into one-hot representations, which will be saved as .csv files.\n",
    "\n",
    "For other types of metadata, such as continously-valued data, you will need to create the corresponding .csv files manually, as we did above for `train.score.csv`. All that matters is that the order of the rows is the same as the the order of documents in `train.jsonlist`. Also, scholar will expect the file name to be `train.field_name.csv` (or \"test\" rather than \"train\" for test data)."
   ]
  },
  {
   "cell_type": "markdown",
   "metadata": {},
   "source": [
    "To see the full set of options for any command, try running it with the `-h` option. Again, in the shell, this would be run as:\n",
    "\n",
    "`python preprocess_data.py -h`"
   ]
  },
  {
   "cell_type": "code",
   "execution_count": 3,
   "metadata": {},
   "outputs": [],
   "source": [
    "#!pip install scipy"
   ]
  },
  {
   "cell_type": "code",
   "execution_count": 4,
   "metadata": {},
   "outputs": [
    {
     "name": "stdout",
     "output_type": "stream",
     "text": [
      "\n",
      "     active environment : base\n",
      "    active env location : /Users/Zhe/opt/anaconda3\n",
      "            shell level : 2\n",
      "       user config file : /Users/Zhe/.condarc\n",
      " populated config files : /Users/Zhe/.condarc\n",
      "          conda version : 4.8.4\n",
      "    conda-build version : 3.18.11\n",
      "         python version : 3.7.6.final.0\n",
      "       virtual packages : __osx=10.15.5\n",
      "       base environment : /Users/Zhe/opt/anaconda3  (writable)\n",
      "           channel URLs : https://repo.anaconda.com/pkgs/main/osx-64\n",
      "                          https://repo.anaconda.com/pkgs/main/noarch\n",
      "                          https://repo.anaconda.com/pkgs/r/osx-64\n",
      "                          https://repo.anaconda.com/pkgs/r/noarch\n",
      "          package cache : /Users/Zhe/opt/anaconda3/pkgs\n",
      "                          /Users/Zhe/.conda/pkgs\n",
      "       envs directories : /Users/Zhe/opt/anaconda3/envs\n",
      "                          /Users/Zhe/.conda/envs\n",
      "               platform : osx-64\n",
      "             user-agent : conda/4.8.4 requests/2.22.0 CPython/3.7.6 Darwin/19.5.0 OSX/10.15.5\n",
      "                UID:GID : 501:20\n",
      "             netrc file : None\n",
      "           offline mode : False\n",
      "\n",
      "\n",
      "Note: you may need to restart the kernel to use updated packages.\n"
     ]
    }
   ],
   "source": [
    "conda info"
   ]
  },
  {
   "cell_type": "code",
   "execution_count": 5,
   "metadata": {},
   "outputs": [
    {
     "data": {
      "text/plain": [
       "'/Users/Zhe/opt/anaconda3/envs/scholar/bin/python'"
      ]
     },
     "execution_count": 5,
     "metadata": {},
     "output_type": "execute_result"
    }
   ],
   "source": [
    "import sys\n",
    "sys.executable"
   ]
  },
  {
   "cell_type": "code",
   "execution_count": 6,
   "metadata": {},
   "outputs": [],
   "source": [
    "#conda install ipython notebook numpy=1.15.4 scipy=1.1.0 pandas matplotlib gensim pytorch=1.0.0 torchvision -c pytorch"
   ]
  },
  {
   "cell_type": "code",
   "execution_count": 1,
   "metadata": {},
   "outputs": [
    {
     "name": "stdout",
     "output_type": "stream",
     "text": [
      "python preprocess_data.py -h\n",
      "Usage: ipykernel_launcher.py train.jsonlist output_dir\n",
      "\n",
      "Options:\n",
      "  -h, --help            show this help message and exit\n",
      "  --label=LABEL         field(s) to use as label (comma-separated):\n",
      "                        default=none\n",
      "  --test=TEST           Test data (test.jsonlist): default=none\n",
      "  --train-prefix=TRAIN_PREFIX\n",
      "                        Output prefix for training data: default=train\n",
      "  --test-prefix=TEST_PREFIX\n",
      "                        Output prefix for test data: default=test\n",
      "  --stopwords=STOPWORDS\n",
      "                        List of stopwords to exclude [None|mallet|snowball]:\n",
      "                        default=snowball\n",
      "  --min-doc-count=MIN_DOC_COUNT\n",
      "                        Exclude words that occur in less than this number of\n",
      "                        documents\n",
      "  --max-doc-freq=MAX_DOC_FREQ\n",
      "                        Exclude words that occur in more than this proportion\n",
      "                        of documents\n",
      "  --keep-num            Keep tokens made of only numbers: default=False\n",
      "  --keep-alphanum       Keep tokens made of a mixture of letters and numbers:\n",
      "                        default=False\n",
      "  --strip-html          Strip HTML tags: default=False\n",
      "  --no-lower            Do not lowercase text: default=False\n",
      "  --min-length=MIN_LENGTH\n",
      "                        Minimum token length: default=3\n",
      "  --vocab-size=VOCAB_SIZE\n",
      "                        Size of the vocabulary (by most common, following\n",
      "                        above exclusions): default=none\n",
      "  --seed=SEED           Random integer seed (only relevant for choosing test\n",
      "                        set): default=42\n"
     ]
    },
    {
     "ename": "SystemExit",
     "evalue": "0",
     "output_type": "error",
     "traceback": [
      "An exception has occurred, use %tb to see the full traceback.\n",
      "\u001b[0;31mSystemExit\u001b[0m\u001b[0;31m:\u001b[0m 0\n"
     ]
    },
    {
     "name": "stderr",
     "output_type": "stream",
     "text": [
      "/Users/Zhe/opt/anaconda3/envs/scholar/lib/python3.7/site-packages/IPython/core/interactiveshell.py:3425: UserWarning: To exit: use 'exit', 'quit', or Ctrl-D.\n",
      "  warn(\"To exit: use 'exit', 'quit', or Ctrl-D.\", stacklevel=1)\n"
     ]
    }
   ],
   "source": [
    "\n",
    "import preprocess_data\n",
    "args = '-h'\n",
    "print(\"python preprocess_data.py -h\")\n",
    "preprocess_data.main([args])"
   ]
  },
  {
   "cell_type": "code",
   "execution_count": null,
   "metadata": {},
   "outputs": [],
   "source": [
    "#conda update -n base -c defaults conda\n"
   ]
  },
  {
   "cell_type": "markdown",
   "metadata": {},
   "source": [
    "Here, we'll tell it to only use words that occur in at least 90 documents, which will give us a vocabulary of about 1000 words (excluding stopwords). This will help the model run faster, but using a larger vocabulary (2000 or 5000 words, might lead to much richer topics). Alternatively, we could set the vocabulary size directly, using `--vocab-size`\n",
    "\n",
    "We'll also tell it to create the label matrices for the various metadata attributes, which we provide in a comma-separated list (without spaces). As a reminder, it will assume that each of these metadata names will be a field in each JSON document object."
   ]
  },
  {
   "cell_type": "code",
   "execution_count": 2,
   "metadata": {},
   "outputs": [
    {
     "name": "stdout",
     "output_type": "stream",
     "text": [
      "python preprocess_data.py tutorial/congress/train.jsonlist tutorial/congress --min-doc-count 90 --label senator,party,year,month,date\n",
      "Using snowball stopwords\n",
      "Reading data files\n",
      "Found 2483 training documents\n",
      "Found label senator with 6 classes\n",
      "Found label party with 2 classes\n",
      "Found label year with 4 classes\n",
      "Found label month with 12 classes\n",
      "Found label date with 918 classes\n",
      "Parsing 2483 documents\n",
      "Size of full vocabulary=22131\n",
      "Selecting the vocabulary\n",
      "Vocab size after filtering = 1021\n",
      "Final vocab size = 1021\n",
      "Most common words remaining: senator washington today said senate contact press also current date\n",
      "Converting to count representations\n",
      "Size of train document-term matrix: (2483, 1021)\n",
      "0 words missing from training data\n",
      "Done!\n"
     ]
    }
   ],
   "source": [
    "script = 'preprocess_data.py'\n",
    "args = 'tutorial/congress/train.jsonlist tutorial/congress --min-doc-count 90 --label senator,party,year,month,date'\n",
    "print(\"python\", script, args)\n",
    "preprocess_data.main(args.split())"
   ]
  },
  {
   "cell_type": "markdown",
   "metadata": {},
   "source": [
    "This preprocessing script creates several files, some uesd by Scholar, and some designed for other software, like Mallet. The files of interest are:\n",
    "- `train.npz`, which contains a (D x V) sparse matrix of document word counts,\n",
    "- `train.vocab.json`, which contains the vocabualry as a JSON object, and;\n",
    "- files like `train.year.csv`, which contain the year corresponding to each document, in a matrix of size (D x C), where C is the number of distinct covariate values (e.g. years)"
   ]
  },
  {
   "cell_type": "markdown",
   "metadata": {},
   "source": [
    "Let's look at a couple of files:"
   ]
  },
  {
   "cell_type": "code",
   "execution_count": 9,
   "metadata": {},
   "outputs": [
    {
     "name": "stdout",
     "output_type": "stream",
     "text": [
      "First few words in the vocbulary:\n",
      "['ability', 'able', 'abuse', 'access', 'according', 'accountability', '...']\n"
     ]
    }
   ],
   "source": [
    "# load the vocabualry\n",
    "with open(os.path.join('tutorial', 'congress', 'train.vocab.json')) as f:\n",
    "    vocab = json.load(f)\n",
    "print(\"First few words in the vocbulary:\")\n",
    "print(vocab[:6] + ['...'])"
   ]
  },
  {
   "cell_type": "code",
   "execution_count": 10,
   "metadata": {},
   "outputs": [
    {
     "name": "stdout",
     "output_type": "stream",
     "text": [
      "Start of a covariate file (train.year.csv):\n",
      "                         2005  2006  2007  2008\n",
      "10Apr2007Sanders238.txt     0     0     1     0\n",
      "10Apr2008Sanders2.txt       0     0     0     1\n",
      "10Apr2008Sanders3.txt       0     0     0     1\n",
      "10Dec2007Sanders61.txt      0     0     1     0\n",
      "10May2007Sanders212.txt     0     0     1     0\n"
     ]
    }
   ],
   "source": [
    "# load a covariate file\n",
    "import pandas as pd\n",
    "print(\"Start of a covariate file (train.year.csv):\")\n",
    "df = pd.read_csv(os.path.join('tutorial', 'congress', 'train.year.csv'), header=0, index_col=0)\n",
    "print(df.head())"
   ]
  },
  {
   "cell_type": "markdown",
   "metadata": {},
   "source": [
    "Note that if we had a test corpus, we could simultaneously process it by adding the `--test` option to our call to `preprocess_data` (with the path to `test.jsonlist`)."
   ]
  },
  {
   "cell_type": "markdown",
   "metadata": {},
   "source": [
    "# Running Scholar"
   ]
  },
  {
   "cell_type": "markdown",
   "metadata": {},
   "source": [
    "We are now ready to run Scholar!\n",
    "\n",
    "To start off, let's just run a basic topic model, without any metadata. We just need to specify the input directory,  and it will look for the `train.npz` file, as well as `train.vocab.json`. \n",
    "\n",
    "Here, we'll also tell it to use 10 topics (`-k`), tell it only to run for 50 epochs (`--epochs 50`), and to use a random 1/10th of the data as a dev/validation set to monitor the fit (`--dev-folds 10`). "
   ]
  },
  {
   "cell_type": "code",
   "execution_count": null,
   "metadata": {},
   "outputs": [],
   "source": [
    "import smart_open\n",
    "dir(smart_open)"
   ]
  },
  {
   "cell_type": "code",
   "execution_count": null,
   "metadata": {},
   "outputs": [],
   "source": [
    "conda install ipython notebook smart_open"
   ]
  },
  {
   "cell_type": "code",
   "execution_count": null,
   "metadata": {},
   "outputs": [],
   "source": [
    "conda install smart_open==2.0.0"
   ]
  },
  {
   "cell_type": "code",
   "execution_count": null,
   "metadata": {},
   "outputs": [],
   "source": [
    "conda list"
   ]
  },
  {
   "cell_type": "code",
   "execution_count": 11,
   "metadata": {},
   "outputs": [
    {
     "name": "stdout",
     "output_type": "stream",
     "text": [
      "python run_scholar.py tutorial/congress/ -k 10 --epochs 50 --dev-folds 10 --seed 42\n",
      "Loading data\n",
      "Loaded 2483 documents with 1021 features\n",
      "Found 2483 non-empty documents\n",
      "Computing background frequencies\n",
      "Min/max word counts in training data: 90 5080\n",
      "Network architecture:\n",
      "embedding_dim: 300\n",
      "n_topics: 10\n",
      "vocab_size: 1021\n",
      "label_type: None\n",
      "n_labels: 0\n",
      "n_prior_covars: 0\n",
      "n_topic_covars: 0\n",
      "l1_beta_reg: 0.0\n",
      "l1_beta_c_reg: 0.0\n",
      "l1_beta_ci_reg: 0.0\n",
      "l2_prior_reg: 0.0\n",
      "classifier_layers: 1\n",
      "use_interactions: False\n",
      "Optimizing full model\n",
      "Epoch: 10 cost= 1132.716733519\n",
      "Epoch: 10; Dev perplexity = 983.6894\n",
      "Epoch: 20 cost= 1128.470407098\n",
      "Epoch: 20; Dev perplexity = 857.6084\n",
      "Epoch: 30 cost= 1117.978690401\n",
      "Epoch: 30; Dev perplexity = 798.9822\n",
      "Epoch: 40 cost= 1090.164639262\n",
      "Epoch: 40; Dev perplexity = 756.3876\n",
      "Background frequencies of top words:\n",
      "obama senator bill said senate today graham washington press president\n",
      "[0.01298087 0.01290677 0.00907639 0.00863688 0.00794695 0.00677663\n",
      " 0.00639589 0.00639589 0.00609181 0.00601004]\n",
      "Topics:\n",
      "0: barack contact statement release petitions initiated immediate newsletters  / provide year national minnesota program said bill million ; sparsity=0.0000\n",
      "1: iraq president american war time one iraqi troops  / million announced announces schools funds program announce county ; sparsity=0.0000\n",
      "2: washington mccain browse statement record contact following john  / year program provide national bill help funding one ; sparsity=0.0000\n",
      "3: press graham awarded releases grants fire browse south  / committee government act report america barack many need ; sparsity=0.0000\n",
      "4: energy renewable klobuchar fuel said fuels gas oil  / relases lindsey hickman releases kevin bishop press browse ; sparsity=0.0000\n",
      "5: veterans care health obama members service legislation mental  / record releases wes browse kevin lindsey relases bishop ; sparsity=0.0000\n",
      "6: bill funding million klobuchar year senate said project  / kevin wes relases lindsey bishop date hickman releases ; sparsity=0.0000\n",
      "7: press releases browse carolina kevin relases record south  / barack obama government office states issue people immediate ; sparsity=0.0000\n",
      "8: obama barack federal durbin state assistance lead illinois  / browse relases bishop releases press wes lindsey hickman ; sparsity=0.0000\n",
      "9: year percent tax president americans income american congress  / wes browse releases hickman bishop kevin south relases ; sparsity=0.0000\n",
      "sparsity in topics = 0.0000\n",
      "Dev perplexity = 724.7397\n",
      "Saving document representations\n"
     ]
    }
   ],
   "source": [
    "import run_scholar\n",
    "script = 'run_scholar.py'\n",
    "args = 'tutorial/congress/ -k 10 --epochs 50 --dev-folds 10 --seed 42'\n",
    "print(\"python\", script, args)\n",
    "run_scholar.main(args.split())"
   ]
  },
  {
   "cell_type": "markdown",
   "metadata": {},
   "source": [
    "To display this a bit more cleanly, let's load the output and look at it.\n",
    "\n",
    "By default, the output of the model is saved to a directory called `output`, but that can be changed using the `-o` option (remember to use `-h` to see all options).\n",
    "\n",
    "First, let's inspect the background frequencies of the most common words (the log-frequencies are computed and saved)"
   ]
  },
  {
   "cell_type": "code",
   "execution_count": 12,
   "metadata": {},
   "outputs": [
    {
     "name": "stdout",
     "output_type": "stream",
     "text": [
      "obama 0.012980873\n",
      "senator 0.012906771\n",
      "bill 0.0090763895\n",
      "said 0.008636881\n",
      "senate 0.007946953\n",
      "today 0.0067766286\n",
      "graham 0.00639589\n",
      "washington 0.00639589\n",
      "press 0.0060918126\n",
      "president 0.0060100416\n",
      "legislation 0.00585928\n",
      "health 0.005708518\n",
      "federal 0.005634414\n",
      "barack 0.005565421\n",
      "million 0.0052051255\n"
     ]
    }
   ],
   "source": [
    "import json\n",
    "import numpy as np\n",
    "\n",
    "# load the background log-frequencies\n",
    "bg = np.load('output/bg.npz')['bg']\n",
    "\n",
    "# load the vocabualry\n",
    "with open('output/vocab.json') as f:\n",
    "    vocab = json.load(f)\n",
    "\n",
    "# sort terms by log-frequency\n",
    "order = np.argsort(bg)\n",
    "\n",
    "# print the most common words \n",
    "for i in range(1, 16):\n",
    "    index = order[-i]\n",
    "    print(vocab[index], np.exp(bg[index]))"
   ]
  },
  {
   "cell_type": "markdown",
   "metadata": {},
   "source": [
    "This seems like about what we would expect for the most common words, including common words, like \"said\", corpus-specific words, like \"senator\", and the names of some of the Senators we have included.\n",
    "\n",
    "Typically in topic models, we might need to remove stopwords to get good topics, but in Scholar the background term means that we don't particularly need to worry about it. (Note that the prepocessing script removed some very common words like \"the\", but they could equally have been left in).\n",
    "\n",
    "Now let's look at the topics:"
   ]
  },
  {
   "cell_type": "code",
   "execution_count": 13,
   "metadata": {},
   "outputs": [
    {
     "name": "stdout",
     "output_type": "stream",
     "text": [
      "0: barack contact statement release petitions initiated immediate ; sparsity=0.0000\n",
      "1: iraq president american war time one iraqi ; sparsity=0.0000\n",
      "2: washington mccain browse statement record contact following ; sparsity=0.0000\n",
      "3: press graham awarded releases grants fire browse ; sparsity=0.0000\n",
      "4: energy renewable klobuchar fuel said fuels gas ; sparsity=0.0000\n",
      "5: veterans care health obama members service legislation ; sparsity=0.0000\n",
      "6: bill funding million klobuchar year senate said ; sparsity=0.0000\n",
      "7: press releases browse carolina kevin relases record ; sparsity=0.0000\n",
      "8: obama barack federal durbin state assistance lead ; sparsity=0.0000\n",
      "9: year percent tax president americans income american ; sparsity=0.0000\n"
     ]
    }
   ],
   "source": [
    "from run_scholar import print_top_words\n",
    "\n",
    "# load the stored (K x V) topic matrix (stored in a compressed numpy format)\n",
    "beta = np.load(os.path.join('output', 'beta.npz'))['beta']\n",
    "print_top_words(beta, vocab, n_pos=7, n_neg=0);"
   ]
  },
  {
   "cell_type": "markdown",
   "metadata": {},
   "source": [
    "There is some order here, with certain words going together, like \"bill\" and \"funding\", or \"press\" and \"release\", but overall these topics are not great.\n",
    "\n",
    "One problem is that we are still seeing names like \"Obama\" and \"Barack\" appearing in the topics, which is not quite what we want. To deal with this, let's add topic covariates, to introduce explicit term for each Senator, to collect the words that are more or less common overall for each one.\n",
    "\n",
    "We'll also let the model run for more epochs, to help it converge."
   ]
  },
  {
   "cell_type": "markdown",
   "metadata": {},
   "source": [
    "## Adding covariates"
   ]
  },
  {
   "cell_type": "markdown",
   "metadata": {},
   "source": [
    "Here we introduce the `--topic-covars` option, which introduces topic-like deviations for observed one-hot covariates. Thus, in addition to the 10 topics, we will here get 6 more vectors of word weights, one for each Senator.\n",
    "\n",
    "When we add the option `--topic-covars senator`, it will look for a file called `train.senator.csv`, with one row for each document, in the same order as `train.jsonlist`. (As a reminder, this file was created by `preprocess_data.py`)."
   ]
  },
  {
   "cell_type": "code",
   "execution_count": 14,
   "metadata": {},
   "outputs": [
    {
     "name": "stdout",
     "output_type": "stream",
     "text": [
      "python run_scholar.py tutorial/congress/ -k 10 --epochs 150 --dev-folds 10 --seed 42 --topic-covars senator\n",
      "Loading data\n",
      "Loaded 2483 documents with 1021 features\n",
      "Found 2483 non-empty documents\n",
      "Loading covariates from tutorial/congress/train.senator.csv\n",
      "Computing background frequencies\n",
      "Min/max word counts in training data: 90 5080\n",
      "Network architecture:\n",
      "embedding_dim: 300\n",
      "n_topics: 10\n",
      "vocab_size: 1021\n",
      "label_type: None\n",
      "n_labels: 0\n",
      "n_prior_covars: 0\n",
      "n_topic_covars: 6\n",
      "l1_beta_reg: 0.0\n",
      "l1_beta_c_reg: 0.0\n",
      "l1_beta_ci_reg: 0.0\n",
      "l2_prior_reg: 0.0\n",
      "classifier_layers: 1\n",
      "use_interactions: False\n",
      "Optimizing full model\n",
      "Epoch: 10 cost= 1164.963788538\n",
      "Epoch: 10; Dev perplexity = 936.5932\n",
      "Epoch: 20 cost= 1131.093072742\n",
      "Epoch: 20; Dev perplexity = 823.7793\n",
      "Epoch: 30 cost= 1098.462503932\n",
      "Epoch: 30; Dev perplexity = 724.8909\n",
      "Epoch: 40 cost= 1048.325452015\n",
      "Epoch: 40; Dev perplexity = 674.1428\n",
      "Epoch: 50 cost= 1079.598473329\n",
      "Epoch: 50; Dev perplexity = 637.4774\n",
      "Epoch: 60 cost= 1076.559643500\n",
      "Epoch: 60; Dev perplexity = 613.2023\n",
      "Epoch: 70 cost= 1058.598343339\n",
      "Epoch: 70; Dev perplexity = 584.5207\n",
      "Epoch: 80 cost= 1048.009265328\n",
      "Epoch: 80; Dev perplexity = 565.0066\n",
      "Epoch: 90 cost= 1107.050366156\n",
      "Epoch: 90; Dev perplexity = 552.7651\n",
      "Epoch: 100 cost= 1062.767675344\n",
      "Epoch: 100; Dev perplexity = 538.6815\n",
      "Epoch: 110 cost= 1070.187627805\n",
      "Epoch: 110; Dev perplexity = 524.5254\n",
      "Epoch: 120 cost= 1059.106128530\n",
      "Epoch: 120; Dev perplexity = 506.6583\n",
      "Epoch: 130 cost= 1029.880491252\n",
      "Epoch: 130; Dev perplexity = 489.3611\n",
      "Epoch: 140 cost= 1088.357954943\n",
      "Epoch: 140; Dev perplexity = 475.5680\n",
      "Background frequencies of top words:\n",
      "obama senator bill said senate today graham washington press president\n",
      "[0.01298087 0.01290677 0.00907639 0.00863688 0.00794695 0.00677663\n",
      " 0.00639589 0.00639589 0.00609181 0.00601004]\n",
      "Topics:\n",
      "0: statement initiated opinion following newsletters polls petitions pursuant  / increase total based number equipment amount additional available ; sparsity=0.0000\n",
      "1: energy gas oil renewable fuels reduce fire sources  / office afghanistan iraq terror pursuant military primary criminal ; sparsity=0.0000\n",
      "2: consumer safety commerce commission lead children consumers report  / opportunities wes relief community businesses rural economy students ; sparsity=0.0000\n",
      "3: income tax insurance low health americans priorities families  / general releases supreme wes department east meeting justice ; sparsity=0.0000\n",
      "4: troops iraq war course mission iraqi terror success  / federal department health grants program receive facilities purchase ; sparsity=0.0000\n",
      "5: emergency request residents durbin recovery damage federal funds  / ben health american americans thing instead debate nation ; sparsity=0.0000\n",
      "6: nomination supreme judge judiciary justice rights man court  / bill billion appropriations fiscal million projects legislation grants ; sparsity=0.0000\n",
      "7: earmarks immigration transparency judiciary reform let point floor  / health awarded announced grant community receive purchase east ; sparsity=0.0000\n",
      "8: veterans affairs defense afghanistan military members returning soldiers  / interest countries economy wes business reach citizens public ; sparsity=0.0000\n",
      "9: announces county project announced projects awarded development south  / statement united fact issue last instead states even ; sparsity=0.0000\n",
      "sparsity in topics = 0.0000\n",
      "Covariate deviations:\n",
      "Coburn: coburn tom added citizen spending released subcommittee room  / wes barack minnesota graham south sanders date thursday ; sparsity=0.0000\n",
      "Graham: wes releases press hickman relases graham date carolina  / barack thursday immediate amy friday added sanders vietor ; sparsity=0.0000\n",
      "Klobuchar: minnesota klobuchar amy commerce renewable businesses incentives farmers  / barack date wes releases vermont press browse pursuant ; sparsity=0.0000\n",
      "McCain: mccain john simply freedom though record authorized browse  / gibbs amy thursday ben klobuchar south vietor wes ; sparsity=0.0000\n",
      "Obama: release immediate barack illinois pursuant julian ortiz alerts  / press klobuchar browse carolina hickman wes south vermont ; sparsity=0.0000\n",
      "Sanders: vermont bernie sanders read http sen told food  / wes klobuchar date amy graham pursuant south obama ; sparsity=0.0000\n",
      "sparsity in covariates = 0.0000\n",
      "Dev perplexity = 466.6475\n",
      "Saving document representations\n"
     ]
    }
   ],
   "source": [
    "script = 'run_scholar.py'\n",
    "args = 'tutorial/congress/ -k 10 --epochs 150 --dev-folds 10 --seed 42 --topic-covars senator'\n",
    "print(\"python\", script, args)\n",
    "run_scholar.main(args.split())"
   ]
  },
  {
   "cell_type": "markdown",
   "metadata": {},
   "source": [
    "Again, let's load the topics and have a look:"
   ]
  },
  {
   "cell_type": "code",
   "execution_count": 15,
   "metadata": {},
   "outputs": [
    {
     "name": "stdout",
     "output_type": "stream",
     "text": [
      "0: statement initiated opinion following newsletters polls petitions ; sparsity=0.0000\n",
      "1: energy gas oil renewable fuels reduce fire ; sparsity=0.0000\n",
      "2: consumer safety commerce commission lead children consumers ; sparsity=0.0000\n",
      "3: income tax insurance low health americans priorities ; sparsity=0.0000\n",
      "4: troops iraq war course mission iraqi terror ; sparsity=0.0000\n",
      "5: emergency request residents durbin recovery damage federal ; sparsity=0.0000\n",
      "6: nomination supreme judge judiciary justice rights man ; sparsity=0.0000\n",
      "7: earmarks immigration transparency judiciary reform let point ; sparsity=0.0000\n",
      "8: veterans affairs defense afghanistan military members returning ; sparsity=0.0000\n",
      "9: announces county project announced projects awarded development ; sparsity=0.0000\n"
     ]
    }
   ],
   "source": [
    "beta = np.load('output/beta.npz')['beta']\n",
    "print_top_words(beta, vocab, n_pos=7, n_neg=0);"
   ]
  },
  {
   "cell_type": "markdown",
   "metadata": {},
   "source": [
    "These look much better! There are fairly clear topics for the energy, Iraq, infrastructure, etc.\n",
    "\n",
    "In addition, we can load the vectors that have been learned for each Senator, which will be saved in a file called `beta_c.npz`."
   ]
  },
  {
   "cell_type": "code",
   "execution_count": 16,
   "metadata": {},
   "outputs": [
    {
     "name": "stdout",
     "output_type": "stream",
     "text": [
      "Coburn: coburn tom added citizen spending released subcommittee ; sparsity=0.0000\n",
      "Graham: wes releases press hickman relases graham date ; sparsity=0.0000\n",
      "Klobuchar: minnesota klobuchar amy commerce renewable businesses incentives ; sparsity=0.0000\n",
      "McCain: mccain john simply freedom though record authorized ; sparsity=0.0000\n",
      "Obama: release immediate barack illinois pursuant julian ortiz ; sparsity=0.0000\n",
      "Sanders: vermont bernie sanders read http sen told ; sparsity=0.0000\n"
     ]
    }
   ],
   "source": [
    "topic_covars = np.load(os.path.join('output', 'beta_c.npz'))\n",
    "weights = topic_covars['beta']\n",
    "names = topic_covars['names']\n",
    "print_top_words(weights, vocab, topic_names=names, n_pos=7, n_neg=0);"
   ]
  },
  {
   "cell_type": "markdown",
   "metadata": {},
   "source": [
    "These are clearly about right, in that the Senator's names and/or states are appearing in the right vectors. It is hard to make sense of some of these, but they appear to doing the right thing in terms of pulling the Senator-specific terms out of the topics.\n",
    "\n",
    "Note that if we had used the full dataset, we could easily extend the covariates to include a variable for each Senator without difficulty, which would be quite slow to run in the structural topic model."
   ]
  },
  {
   "cell_type": "markdown",
   "metadata": {},
   "source": [
    "## Visualizing results\n",
    "\n",
    "Let's load the resulting document-topic proportions for the training data, and look a random example. \n"
   ]
  },
  {
   "cell_type": "code",
   "execution_count": 17,
   "metadata": {},
   "outputs": [
    {
     "name": "stdout",
     "output_type": "stream",
     "text": [
      "10Apr2008Sanders2.txt\n",
      "SENATE ADOPTS SANDERS VETERANS PROVISION IN HOUSING BILL   The Senate today put finishing touches on housing stimulus legislation, adding a $57 million proposal authored by Senator Bernie Sanders (I-Vt.) that would increase federal grants to help disabled veterans adapt their homes.     \"With so many soldiers coming back from Iraq with disabilities, it is absolutely imperative that we make sure they have as normal a life as possible and that certainly includes adapting their homes to meet their needs,\" Sanders said.    The final bill, which the Senate approved 84 to 12, also included energy tax credits cosponsored by Sanders that would promote renewable energy and energy efficiency. It would extend expiring federal tax benefits for investment in solar, wind and other sustainable energy sources.    Sanders also was the lead cosponsor of a successful amendment by Senator Patrick Leahy (D-Vt.) that would guarantee Vermont a $20 million share of $4 billion in community development block grants to prevent home foreclosures and to refurbish abandoned homes.    Under the veterans amendment, veterans with certain severe service-connected disabilities would be eligible for grants of up to $60,000, a $10,000 boost from the current law, to build wheelchair ramps and to make other changes so they could live at home. Veterans who were blinded or lost arms in war zones or while on active duty may receive up to $12,000, a $2,000 increase, for remodeling their homes.    The amendment also would provide for automatic annual adjustments pegged to a home construction cost index to ensure that the benefits keep pace with rising prices. Wounded veterans returning from Iraq and Afghanistan have found that the program now on the books does not cover all of the costs of adapting their homes.    Sanders' amendment was supported by the American Legion, Veterans of Foreign Wars, Disabled American Veterans, Vietnam Veterans of America, AMVETS, Paralyzed Veterans of America and others.    Before passing the bill, the Senate also added the energy provisions. \"There are huge opportunities that we will lose if we do not extend these sustainable energy tax credits,\" Sanders said. \"Not only will these tax credits enable us to continue our effort to break our dependency on the fossil fuels that cause global warming and pollute our environment, but they will provide a significant number of good-paying green jobs in the areas of wind, solar and geothermal - something that I am working very hard on and believe has tremendous potential for our economy.\"    The Leahy-Sanders Amendment would allot $20 million to help Vermont deal with the foreclosure crisis that is sweeping the country. \"With this funding, it is my hope that Vermont's cities and towns will be able to provide immediate assistance to the struggling middle class trying to hold onto their homes and improve communities hit hard by foreclosures,\" Sanders said. \"Clearly, we must do everything we can to prevent the American dream of homeownership from turning into the American nightmare of foreclosure that too many American families are experiencing.\"    \n"
     ]
    },
    {
     "data": {
      "image/png": "[encoded data removed]",
      "text/plain": [
       "<Figure size 432x288 with 1 Axes>"
      ]
     },
     "metadata": {
      "needs_background": "light"
     },
     "output_type": "display_data"
    }
   ],
   "source": [
    "%matplotlib inline\n",
    "import numpy as np\n",
    "import pandas as pd\n",
    "import matplotlib.pyplot as plt\n",
    "\n",
    "# load the matrix with topic proportions for each document (note that this excludes those in the dev set).\n",
    "npz = np.load(os.path.join('output', 'theta.train.npz')) \n",
    "ids = npz['ids']\n",
    "theta = npz['theta']\n",
    "n_docs, n_topics = theta.shape\n",
    "\n",
    "index = 1\n",
    "# plot the proportion of each topic in the first document\n",
    "fig, ax = plt.subplots()\n",
    "ax.bar(range(n_topics), theta[index, :])\n",
    "\n",
    "# find the original line corresponding to this document, and display the text\n",
    "print(ids[index])\n",
    "for line in lines:\n",
    "    doc = json.loads(line)\n",
    "    if doc['id'] == ids[index]:\n",
    "        print(doc['text'])\n",
    "        break\n"
   ]
  },
  {
   "cell_type": "markdown",
   "metadata": {},
   "source": [
    "This seems about right! The press release combines the topics of veterans affairs (topic 8), renewable energy (topic 1) and tax reform (topic 3). We might quibble with what the correct proportions of these topics should be, but they are cleary the dominant elements of the text, given the topics that the model has learned."
   ]
  },
  {
   "cell_type": "markdown",
   "metadata": {},
   "source": [
    "Now, let's plot the relative prevalance of each topics for each Senator.\n",
    "\n",
    "Because scholar split the training data into a training set and a dev set, we need to match up the output to the original senator variables."
   ]
  },
  {
   "cell_type": "code",
   "execution_count": 18,
   "metadata": {},
   "outputs": [
    {
     "data": {
      "image/png": "[encoded data removed]",
      "text/plain": [
       "<Figure size 432x288 with 1 Axes>"
      ]
     },
     "metadata": {
      "needs_background": "light"
     },
     "output_type": "display_data"
    }
   ],
   "source": [
    "\n",
    "# load the senator variable for all the documents\n",
    "senators_df = pd.read_csv(os.path.join('tutorial', 'congress', 'train.senator.csv'), header=0, index_col=0)\n",
    "senators = senators_df.columns\n",
    "\n",
    "# pull out a subset corresponding to the ids from above\n",
    "train_subset = senators_df.loc[ids]\n",
    "n_docs, n_senators = train_subset.shape\n",
    "\n",
    "# plot the average senator-topic proportions\n",
    "fig, ax = plt.subplots()\n",
    "lefts = np.zeros(n_senators)\n",
    "for k in range(n_topics):\n",
    "    vals = []\n",
    "    for senator in senators:\n",
    "        vals.append(np.mean(theta[train_subset[senator] == 1, k]))\n",
    "\n",
    "    ax.barh(range(n_senators), vals, left=lefts)\n",
    "    lefts += np.array(vals)\n",
    "    \n",
    "ax.set_yticks(range(n_senators))\n",
    "ax.set_yticklabels(senators)\n",
    "plt.show();"
   ]
  },
  {
   "cell_type": "markdown",
   "metadata": {},
   "source": [
    "This seems to have at least some face validity, with, for example, Amy Klobuchar writing the most about about energy/environment issues (topic 1), and Bernie Sanders writing the most about taxes and insurance (topic 3). It also appears that John McCain writes the most about the supreme court (topic 6), and Lindsay Graham devotes a lot of text to announcing grants (topic 9), but more expertise would be required to evaluate these findings."
   ]
  },
  {
   "cell_type": "markdown",
   "metadata": {},
   "source": [
    "## Initializing with pretrained word vectors"
   ]
  },
  {
   "cell_type": "markdown",
   "metadata": {},
   "source": [
    "Emperically, we found that initializing the model with pretrained word vectors led to greater coherence in the topics. If you are interested in trying this, it is necessary to download the pretrained word2vec vectors from https://drive.google.com/file/d/0B7XkCwpI5KDYNlNUTTlSS21pQmM/edit?usp=sharing\n",
    "\n",
    "Once this is done, and these have been saved somewhere, we can add the `--w2v` option to the model, with a path to the vector file. Here, we'll assume it's in the local directory.\n",
    "\n",
    "Note that it takes some time to load the word vectors, so we'll just try this once for illustration purposes."
   ]
  },
  {
   "cell_type": "code",
   "execution_count": 20,
   "metadata": {},
   "outputs": [
    {
     "name": "stdout",
     "output_type": "stream",
     "text": [
      "python run_scholar.py tutorial/congress/ -k 10 --epochs 150 --dev-folds 10 --seed 42 --topic-covars senator --w2v /Users/Zhe/Documents/COMP90055Research/fighting/GoogleNews-vectors-negative300.bin.gz\n",
      "Loading data\n",
      "Loaded 2483 documents with 1021 features\n",
      "Found 2483 non-empty documents\n",
      "Loading covariates from tutorial/congress/train.senator.csv\n",
      "Computing background frequencies\n",
      "Min/max word counts in training data: 90 5080\n",
      "Network architecture:\n",
      "embedding_dim: 300\n",
      "n_topics: 10\n",
      "vocab_size: 1021\n",
      "label_type: None\n",
      "n_labels: 0\n",
      "n_prior_covars: 0\n",
      "n_topic_covars: 6\n",
      "l1_beta_reg: 0.0\n",
      "l1_beta_c_reg: 0.0\n",
      "l1_beta_ci_reg: 0.0\n",
      "l2_prior_reg: 0.0\n",
      "classifier_layers: 1\n",
      "use_interactions: False\n",
      "Loading word vectors\n",
      "Found embeddings for 1012 words\n",
      "Optimizing full model\n",
      "Epoch: 10 cost= 1147.214786948\n",
      "Epoch: 10; Dev perplexity = 402396315476245511122461763134066509452101722953337180157753938029995687779693347841267392293239087804275523544909470045831168.0000\n",
      "Epoch: 20 cost= 1126.638549532\n",
      "Epoch: 20; Dev perplexity = 947.8850\n",
      "Epoch: 30 cost= 1070.796532002\n",
      "Epoch: 30; Dev perplexity = 644.4343\n",
      "Epoch: 40 cost= 1059.109656827\n",
      "Epoch: 40; Dev perplexity = 607.2246\n",
      "Epoch: 50 cost= 1105.140662140\n",
      "Epoch: 50; Dev perplexity = 591.4127\n",
      "Epoch: 60 cost= 1094.154705415\n",
      "Epoch: 60; Dev perplexity = 577.8872\n",
      "Epoch: 70 cost= 1088.484285427\n",
      "Epoch: 70; Dev perplexity = 563.1875\n",
      "Epoch: 80 cost= 1139.726398647\n",
      "Epoch: 80; Dev perplexity = 551.5495\n",
      "Epoch: 90 cost= 1072.434950451\n",
      "Epoch: 90; Dev perplexity = 542.1486\n",
      "Epoch: 100 cost= 1089.277452985\n",
      "Epoch: 100; Dev perplexity = 534.1103\n",
      "Epoch: 110 cost= 1079.798788800\n",
      "Epoch: 110; Dev perplexity = 529.7773\n",
      "Epoch: 120 cost= 1089.083309302\n",
      "Epoch: 120; Dev perplexity = 515.3063\n",
      "Epoch: 130 cost= 1063.540683550\n",
      "Epoch: 130; Dev perplexity = 501.9039\n",
      "Epoch: 140 cost= 1085.574200180\n",
      "Epoch: 140; Dev perplexity = 492.9606\n",
      "Background frequencies of top words:\n",
      "obama senator bill said senate today graham washington press president\n",
      "[0.01298087 0.01290677 0.00907639 0.00863688 0.00794695 0.00677663\n",
      " 0.00639589 0.00639589 0.00609181 0.00601004]\n",
      "Topics:\n",
      "0: recovery assistance federal disaster funds damage emergency residents  / care young age statement soldiers children parents course ; sparsity=0.0000\n",
      "1: rights statement nomination following judge court position supreme  / billion costs cost fiscal amount grants care additional ; sparsity=0.0000\n",
      "2: court judge think just legal agree supreme judiciary  / announces grants grant awarded rural announced funds demint ; sparsity=0.0000\n",
      "3: statement following released vietor barack gibbs obama contact  / cost grants amount care services information provide costs ; sparsity=0.0000\n",
      "4: energy gas fuel oil climate fuels renewable production  / army county soldiers browse serve wes serving grant ; sparsity=0.0000\n",
      "5: iraq troops iraqi course war forces region terror  / grant grants rural receive county program browse illinois ; sparsity=0.0000\n",
      "6: grants departments awarded fire grant tools safety equipment  / statement immigration terror court reform legal president democratic ; sparsity=0.0000\n",
      "7: care million health funding education children research affordable  / dear statement letter concern pursuant opinion general honorable ; sparsity=0.0000\n",
      "8: soldiers veterans members care returning benefits military defense  / browse central statement grants grant public climate countries ; sparsity=0.0000\n",
      "9: announced announces press releases bishop south commerce awarded  / floor billion departments means soldiers includes fiscal military ; sparsity=0.0000\n",
      "sparsity in topics = 0.0000\n",
      "Covariate deviations:\n",
      "Coburn: room tom per coburn earmarks released citizen spending  / klobuchar wes gibbs petitions releases sanders bishop kevin ; sparsity=0.0000\n",
      "Graham: wes browse demint hickman relases graham bishop releases  / klobuchar obama barack letter sen amy bernie reported ; sparsity=0.0000\n",
      "Klobuchar: klobuchar minnesota serves consumer prices products amy commerce  / wes browse obama pursuant kevin gibbs press bishop ; sparsity=0.0000\n",
      "McCain: john browse mccain record air democracy colleagues simply  / obama barack wes kevin gibbs alerts petitions pursuant ; sparsity=0.0000\n",
      "Obama: pursuant brundage release illinois gibbs vietor julian petitions  / browse wes klobuchar releases bishop press graham south ; sparsity=0.0000\n",
      "Sanders: bernie sen http vermont sanders bush warming worse  / browse klobuchar releases gibbs obama south demint kevin ; sparsity=0.0000\n",
      "sparsity in covariates = 0.0000\n",
      "Dev perplexity = 484.3823\n",
      "Saving document representations\n"
     ]
    }
   ],
   "source": [
    "script = 'run_scholar.py'\n",
    "args = 'tutorial/congress/ -k 10 --epochs 150 --dev-folds 10 --seed 42 --topic-covars senator --w2v /Users/Zhe/Documents/COMP90055Research/fighting/GoogleNews-vectors-negative300.bin.gz'\n",
    "print(\"python\", script, args)\n",
    "run_scholar.main(args.split())"
   ]
  },
  {
   "cell_type": "code",
   "execution_count": 21,
   "metadata": {},
   "outputs": [
    {
     "name": "stdout",
     "output_type": "stream",
     "text": [
      "0: recovery assistance federal disaster funds damage emergency residents ; sparsity=0.0000\n",
      "1: rights statement nomination following judge court position supreme ; sparsity=0.0000\n",
      "2: court judge think just legal agree supreme judiciary ; sparsity=0.0000\n",
      "3: statement following released vietor barack gibbs obama contact ; sparsity=0.0000\n",
      "4: energy gas fuel oil climate fuels renewable production ; sparsity=0.0000\n",
      "5: iraq troops iraqi course war forces region terror ; sparsity=0.0000\n",
      "6: grants departments awarded fire grant tools safety equipment ; sparsity=0.0000\n",
      "7: care million health funding education children research affordable ; sparsity=0.0000\n",
      "8: soldiers veterans members care returning benefits military defense ; sparsity=0.0000\n",
      "9: announced announces press releases bishop south commerce awarded ; sparsity=0.0000\n"
     ]
    }
   ],
   "source": [
    "beta = np.load('output/beta.npz')['beta']\n",
    "print_top_words(beta, vocab, n_pos=8, n_neg=0);"
   ]
  },
  {
   "cell_type": "markdown",
   "metadata": {},
   "source": [
    "In this case, the results seem quite similar, but it might be more beneficial when working with a larger vocabualry (and therefore words which occur less frequently)."
   ]
  },
  {
   "cell_type": "markdown",
   "metadata": {},
   "source": [
    "## Adding more covariates\n",
    "\n",
    "Note that we can easily include additional covarites in the same way as we did for senators. Let's try also including covariates for year and month. Just include them in a comma-separated list (again, without spaces)."
   ]
  },
  {
   "cell_type": "code",
   "execution_count": 22,
   "metadata": {},
   "outputs": [
    {
     "name": "stdout",
     "output_type": "stream",
     "text": [
      "python run_scholar.py tutorial/congress/ -k 10 --epochs 150 --dev-folds 10 --seed 42 --topic-covars senator,year,month\n",
      "Loading data\n",
      "Loaded 2483 documents with 1021 features\n",
      "Found 2483 non-empty documents\n",
      "Loading covariates from tutorial/congress/train.senator.csv\n",
      "Loading covariates from tutorial/congress/train.year.csv\n",
      "Loading covariates from tutorial/congress/train.month.csv\n",
      "Computing background frequencies\n",
      "Min/max word counts in training data: 90 5080\n",
      "Network architecture:\n",
      "embedding_dim: 300\n",
      "n_topics: 10\n",
      "vocab_size: 1021\n",
      "label_type: None\n",
      "n_labels: 0\n",
      "n_prior_covars: 0\n",
      "n_topic_covars: 22\n",
      "l1_beta_reg: 0.0\n",
      "l1_beta_c_reg: 0.0\n",
      "l1_beta_ci_reg: 0.0\n",
      "l2_prior_reg: 0.0\n",
      "classifier_layers: 1\n",
      "use_interactions: False\n",
      "Optimizing full model\n",
      "Epoch: 10 cost= 1144.751610127\n",
      "Epoch: 10; Dev perplexity = 867.1016\n",
      "Epoch: 20 cost= 1116.071253015\n",
      "Epoch: 20; Dev perplexity = 817.8179\n",
      "Epoch: 30 cost= 1086.788278191\n",
      "Epoch: 30; Dev perplexity = 745.5513\n",
      "Epoch: 40 cost= 1036.549003994\n",
      "Epoch: 40; Dev perplexity = 681.5973\n",
      "Epoch: 50 cost= 1069.457226781\n",
      "Epoch: 50; Dev perplexity = 641.8051\n",
      "Epoch: 60 cost= 1066.743387995\n",
      "Epoch: 60; Dev perplexity = 612.0352\n",
      "Epoch: 70 cost= 1047.718060726\n",
      "Epoch: 70; Dev perplexity = 585.0393\n",
      "Epoch: 80 cost= 1038.275394994\n",
      "Epoch: 80; Dev perplexity = 558.1889\n",
      "Epoch: 90 cost= 1095.839920215\n",
      "Epoch: 90; Dev perplexity = 541.8882\n",
      "Epoch: 100 cost= 1052.615903987\n",
      "Epoch: 100; Dev perplexity = 525.9228\n",
      "Epoch: 110 cost= 1060.863607863\n",
      "Epoch: 110; Dev perplexity = 510.6850\n",
      "Epoch: 120 cost= 1049.989852052\n",
      "Epoch: 120; Dev perplexity = 490.3280\n",
      "Epoch: 130 cost= 1019.491903489\n",
      "Epoch: 130; Dev perplexity = 472.0328\n",
      "Epoch: 140 cost= 1076.250720952\n",
      "Epoch: 140; Dev perplexity = 459.8498\n",
      "Background frequencies of top words:\n",
      "obama senator bill said senate today graham washington press president\n",
      "[0.01298087 0.01290677 0.00907639 0.00863688 0.00794695 0.00677663\n",
      " 0.00639589 0.00639589 0.00609181 0.00601004]\n",
      "Topics:\n",
      "0: transportation projects project water river construction infrastructure improvements  / introduced companies even called iraq country percent american ; sparsity=0.0000\n",
      "1: global warming climate change environment announces challenge announced  / funding iraq war troops soldiers appropriations president billion ; sparsity=0.0000\n",
      "2: iraq troops war iraqi forces terror course combat  / grant grants health enforcement federal public district practices ; sparsity=0.0000\n",
      "3: insurance tax care families health children americans income  / grants public grant department agency east energy justice ; sparsity=0.0000\n",
      "4: immigration judiciary legal illegal laws court supreme judge  / grant grants funds programs funding providing awarded rural ; sparsity=0.0000\n",
      "5: federal agency recovery agencies assistance counties residents lead  / economy energy change class men soldiers leadership gas ; sparsity=0.0000\n",
      "6: fire departments returning veterans care receive affairs members  / economy people economic change future debate american strong ; sparsity=0.0000\n",
      "7: programs students education college million research program agriculture  / iraq sincerely failed statement sent reform people brave ; sparsity=0.0000\n",
      "8: energy fuel renewable oil gas fuels companies alternative  / health women served care men young war soldiers ; sparsity=0.0000\n",
      "9: statement following released barack nomination release contact immediate  / provide grants providing cost funds amount percent receive ; sparsity=0.0010\n",
      "sparsity in topics = 0.0001\n",
      "Covariate deviations:\n",
      "Coburn: room coburn per tom citizen released spending regarding  / wes tommy relases klobuchar graham lindsey contact bishop ; sparsity=0.0000\n",
      "Graham: bishop south relases wes grant graham releases hickman  / tommy illinois vietor klobuchar barack bernie friday julian ; sparsity=0.0000\n",
      "Klobuchar: klobuchar minnesota consumer prices consumers commerce serves bipartisan  / bishop newsletters polls initiated alerts obama releases barack ; sparsity=0.0000\n",
      "McCain: mccain record browse john appropriations consequences bills democracy  / wes tommy obama barack julian graham vietor contact ; sparsity=0.0000\n",
      "Obama: illinois julian obama tommy barack pursuant gibbs vietor  / bishop south klobuchar lindsey browse carolina releases press ; sparsity=0.0000\n",
      "Sanders: bernie vermont http sanders visit sen read news  / amy bishop labolt releases obama newsletters polls browse ; sparsity=0.0000\n",
      "2005: julian gibbs tommy vietor green announces supreme court  / pursuant amy initiated ortiz newsletters electronic alerts brundage ; sparsity=0.0000\n",
      "2006: tommy vietor gibbs julian terrorists robert credit terror  / pursuant alerts amy polls petitions ortiz opinion brundage ; sparsity=0.0010\n",
      "2007: labolt ben brundage iraq amy consequences troops sanders  / gibbs julian vietor tommy robert ortiz pursuant alerts ; sparsity=0.0000\n",
      "2008: newsletters initiated michael ortiz petitions polls alerts opinion  / julian gibbs tommy labolt ben vietor bishop robert ; sparsity=0.0000\n",
      "Apr: april location prices price temporary drug lower clearly  / june september august july essential seen terror november ; sparsity=0.0000\n",
      "Aug: august receive grant purchase transportation writing announce insurance  / decades continues clinton creating dollars expected away proud ; sparsity=0.0000\n",
      "Dec: december pursuant petitions newsletters electronic initiated alerts polls  / june labolt ben richard company labor march announces ; sparsity=0.0000\n",
      "Feb: february cut budget bipartisan message open eliminate responsible  / york established june september april veto along organizations ; sparsity=0.0000\n",
      "Jan: january economic legislative reduction sources things essential associated  / estimated october july june september city april expected ; sparsity=0.0000\n",
      "Jul: july truly improving debt freedom quality district goes  / brundage november october april september location respond class ; sparsity=0.0000\n",
      "Jun: june initiative choice union chicago amendment elected investment  / october august december amy ensuring veto september april ; sparsity=0.0000\n",
      "Mar: march rates budget resolution conditions alone subject billions  / june september brundage look august authorization july october ; sparsity=0.0000\n",
      "May: helps committed illegal immigration domestic nothing credit comprehensive  / september june july august october location follow november ; sparsity=0.0000\n",
      "Nov: november petitions pursuant polls brundage newsletters initiated alerts  / labolt june close designed establish approach even thousands ; sparsity=0.0000\n",
      "Oct: october brundage amy private reported clinton specifically civil  / labolt june ben january april designed illinois ortiz ; sparsity=0.0000\n",
      "Sep: september amy brundage chief terror ahead something justice  / labolt june encourage initiated january reform november december ; sparsity=0.0000\n",
      "sparsity in covariates = 0.0000\n",
      "Dev perplexity = 452.6174\n",
      "Saving document representations\n"
     ]
    }
   ],
   "source": [
    "script = 'run_scholar.py'\n",
    "args = 'tutorial/congress/ -k 10 --epochs 150 --dev-folds 10 --seed 42 --topic-covars senator,year,month'\n",
    "print(\"python\", script, args)\n",
    "run_scholar.main(args.split())"
   ]
  },
  {
   "cell_type": "markdown",
   "metadata": {},
   "source": [
    "Now if we load the covariate vectors, we will also see some temporal patterns in word frequencies. The ones here don't seem all that compelling, but perhaps more data is needed."
   ]
  },
  {
   "cell_type": "code",
   "execution_count": 23,
   "metadata": {},
   "outputs": [
    {
     "name": "stdout",
     "output_type": "stream",
     "text": [
      "Coburn: room coburn per tom citizen released spending regarding ; sparsity=0.0000\n",
      "Graham: bishop south relases wes grant graham releases hickman ; sparsity=0.0000\n",
      "Klobuchar: klobuchar minnesota consumer prices consumers commerce serves bipartisan ; sparsity=0.0000\n",
      "McCain: mccain record browse john appropriations consequences bills democracy ; sparsity=0.0000\n",
      "Obama: illinois julian obama tommy barack pursuant gibbs vietor ; sparsity=0.0000\n",
      "Sanders: bernie vermont http sanders visit sen read news ; sparsity=0.0000\n",
      "2005: julian gibbs tommy vietor green announces supreme court ; sparsity=0.0000\n",
      "2006: tommy vietor gibbs julian terrorists robert credit terror ; sparsity=0.0010\n",
      "2007: labolt ben brundage iraq amy consequences troops sanders ; sparsity=0.0000\n",
      "2008: newsletters initiated michael ortiz petitions polls alerts opinion ; sparsity=0.0000\n",
      "Apr: april location prices price temporary drug lower clearly ; sparsity=0.0000\n",
      "Aug: august receive grant purchase transportation writing announce insurance ; sparsity=0.0000\n",
      "Dec: december pursuant petitions newsletters electronic initiated alerts polls ; sparsity=0.0000\n",
      "Feb: february cut budget bipartisan message open eliminate responsible ; sparsity=0.0000\n",
      "Jan: january economic legislative reduction sources things essential associated ; sparsity=0.0000\n",
      "Jul: july truly improving debt freedom quality district goes ; sparsity=0.0000\n",
      "Jun: june initiative choice union chicago amendment elected investment ; sparsity=0.0000\n",
      "Mar: march rates budget resolution conditions alone subject billions ; sparsity=0.0000\n",
      "May: helps committed illegal immigration domestic nothing credit comprehensive ; sparsity=0.0000\n",
      "Nov: november petitions pursuant polls brundage newsletters initiated alerts ; sparsity=0.0000\n",
      "Oct: october brundage amy private reported clinton specifically civil ; sparsity=0.0000\n",
      "Sep: september amy brundage chief terror ahead something justice ; sparsity=0.0000\n"
     ]
    }
   ],
   "source": [
    "topic_covars = np.load(os.path.join('output', 'beta_c.npz'))\n",
    "weights = topic_covars['beta']\n",
    "names = topic_covars['names']\n",
    "print_top_words(weights, vocab, topic_names=names, n_pos=8, n_neg=0);"
   ]
  },
  {
   "cell_type": "markdown",
   "metadata": {},
   "source": [
    "## Interactions\n",
    "\n",
    "Alternatively, we can include interactions between covariates and topics.\n",
    "\n",
    "Here, let's try using a covariate for party membership, rather than for each Senator, and include interactions between topics and party. To do this, just include the `--interactions` options. "
   ]
  },
  {
   "cell_type": "code",
   "execution_count": 24,
   "metadata": {},
   "outputs": [
    {
     "name": "stdout",
     "output_type": "stream",
     "text": [
      "python run_scholar.py tutorial/congress/ -k 10 --epochs 150 --dev-folds 10 --seed 99 --topic-covars party --interactions\n",
      "Loading data\n",
      "Loaded 2483 documents with 1021 features\n",
      "Found 2483 non-empty documents\n",
      "Loading covariates from tutorial/congress/train.party.csv\n",
      "Computing background frequencies\n",
      "Min/max word counts in training data: 88 5075\n",
      "Network architecture:\n",
      "embedding_dim: 300\n",
      "n_topics: 10\n",
      "vocab_size: 1021\n",
      "label_type: None\n",
      "n_labels: 0\n",
      "n_prior_covars: 0\n",
      "n_topic_covars: 2\n",
      "l1_beta_reg: 0.0\n",
      "l1_beta_c_reg: 0.0\n",
      "l1_beta_ci_reg: 0.0\n",
      "l2_prior_reg: 0.0\n",
      "classifier_layers: 1\n",
      "use_interactions: True\n",
      "Optimizing full model\n",
      "Epoch: 10 cost= 1154.104380768\n",
      "Epoch: 10; Dev perplexity = 1038.1124\n",
      "Epoch: 20 cost= 1109.741210938\n",
      "Epoch: 20; Dev perplexity = 954.7369\n",
      "Epoch: 30 cost= 1104.559585605\n",
      "Epoch: 30; Dev perplexity = 778.2831\n",
      "Epoch: 40 cost= 1070.675073406\n",
      "Epoch: 40; Dev perplexity = 703.3148\n",
      "Epoch: 50 cost= 1089.679083429\n",
      "Epoch: 50; Dev perplexity = 672.4765\n",
      "Epoch: 60 cost= 1074.253765337\n",
      "Epoch: 60; Dev perplexity = 633.5152\n",
      "Epoch: 70 cost= 1053.126529293\n",
      "Epoch: 70; Dev perplexity = 602.9138\n",
      "Epoch: 80 cost= 1071.064289272\n",
      "Epoch: 80; Dev perplexity = 579.7163\n",
      "Epoch: 90 cost= 1053.087576028\n",
      "Epoch: 90; Dev perplexity = 558.7413\n",
      "Epoch: 100 cost= 1068.699948441\n",
      "Epoch: 100; Dev perplexity = 541.7731\n",
      "Epoch: 110 cost= 1076.838215053\n",
      "Epoch: 110; Dev perplexity = 523.4829\n",
      "Epoch: 120 cost= 1091.184207652\n",
      "Epoch: 120; Dev perplexity = 502.9842\n",
      "Epoch: 130 cost= 1116.806378461\n",
      "Epoch: 130; Dev perplexity = 486.4491\n",
      "Epoch: 140 cost= 1093.127490562\n",
      "Epoch: 140; Dev perplexity = 474.0650\n",
      "Background frequencies of top words:\n",
      "senator obama bill said senate today washington graham press president\n",
      "[0.01296816 0.01271263 0.00941629 0.00862415 0.00805176 0.00681244\n",
      " 0.0063857  0.00630138 0.00597941 0.00590275]\n",
      "Topics:\n",
      "0: iraq armed mission terrorists war troops forces reports  / bishop hickman kevin south wes releases lindsey environmental ; sparsity=0.0000\n",
      "1: announce awarded residents respond durbin supports grants training  / people just like american mccain change take see ; sparsity=0.0000\n",
      "2: earmarks bills income insurance provisions costs million fund  / graham bishop releases kevin contact hickman lindsey wes ; sparsity=0.0000\n",
      "3: armed veterans families army returning back men duty  / alerts newsletters initiated ortiz polls pursuant petitions environmental ; sparsity=0.0000\n",
      "4: coburn room sanders citizen lower bernie tom vermont  / graham bishop kevin hickman releases alerts relases date ; sparsity=0.0000\n",
      "5: announces announced bishop wes awarded lead relases press  / back away mccain fiscal families hard president real ; sparsity=0.0000\n",
      "6: court judiciary statement nomination supreme ortiz newsletters judge  / million additional program percent services sanders already funding ; sparsity=0.0000\n",
      "7: fuel fuels renewable production sources oil alternative illegal  / services health demint ortiz funds office alerts newsletters ; sparsity=0.0000\n",
      "8: democracy troops iraq freedom war region resolution statement  / department million programs federal health pay provide enforcement ; sparsity=0.0000\n",
      "9: river land project klobuchar minnesota development south natural  / americans obama immediate barack millions newsletters polls far ; sparsity=0.0000\n",
      "sparsity in topics = 0.0000\n",
      "Covariate deviations:\n",
      "D: brundage efficient tuesday oil children veterans fuels vietor  / graham bishop lindsey browse kevin relases demint hickman ; sparsity=0.0000\n",
      "R: releases demint graham mccain kevin grant browse grants  / tommy ortiz obama alerts julian release immediate pursuant ; sparsity=0.0000\n",
      "sparsity in covariates = 0.0000\n",
      "Covariate interactions\n",
      "(20, 1021)\n",
      "0:D: reports defense service review armed members military receiving  / graham land browse press supports reduction mccain hickman ; sparsity=0.0000\n",
      "0:R: terrorists rather beginning mission iraq just iraqi region  / vietor contact brundage pursuant health julian friday alerts ; sparsity=0.0000\n",
      "1:D: illinois durbin newsletters request affected dear delegation dick  / graham hickman bishop kevin press lindsey awarded wes ; sparsity=0.0000\n",
      "1:R: grants awarded amount supports announce kind training demint  / immediate soon find president states learn led keep ; sparsity=0.0000\n",
      "2:D: low program insurance families income affordable housing relief  / graham force press decision browse earmarks armed required ; sparsity=0.0000\n",
      "2:R: earmarks rather coburn unfortunately largest included projects contains  / graham contact bishop kevin relases date wes strengthen ; sparsity=0.0000\n",
      "3:D: returning veterans minnesota affairs klobuchar soldiers field lives  / graham kevin hickman environmental mccain bishop alerts lindsey ; sparsity=0.0000\n",
      "3:R: armed defense terrorism freedom terror country far part  / friday returning vietor caused julian obama grant reports ; sparsity=0.0000\n",
      "4:D: sanders bernie vermont told lower http paying news  / newsletters immediate ensure graham release date ortiz electronic ; sparsity=0.0000\n",
      "4:R: coburn room citizen per tom spending released agencies  / bishop graham kevin date contact college lindsey carolina ; sparsity=0.0000\n",
      "5:D: consumer lead safety dear sincerely text commission consumers  / browse graham bishop relases lindsey south press carolina ; sparsity=0.0000\n",
      "5:R: hickman lindsey kevin awarded bishop announces record wes  / immediate now obama people measures just away matter ; sparsity=0.0000\n",
      "6:D: pursuant polls newsletters alerts petitions opinion ortiz barack  / graham browse relases current hickman percent additional press ; sparsity=0.0000\n",
      "6:R: court supreme judiciary nomination judge man experience position  / immediate million initiated vietor newsletters pursuant ortiz month ; sparsity=0.0000\n",
      "7:D: fuel fuels renewable energy sources gas reduce oil  / graham armed human kevin bishop lindsey judiciary court ; sparsity=0.0000\n",
      "7:R: legal immigration get judiciary illegal period back wes  / vietor directly julian jim per funds obama initiative ; sparsity=0.0000\n",
      "8:D: troops war bring terrorism iraq failed change united  / graham browse mccain relases lindsey bishop services press ; sparsity=0.0000\n",
      "8:R: democracy hickman wes terror bishop press kevin record  / vietor million gibbs cost newsletters initiated electronic julian ; sparsity=0.0000\n",
      "9:D: minnesota klobuchar cities works river funding residents project  / graham date browse hickman press relases kevin contact ; sparsity=0.0000\n",
      "9:R: jim development south carolina demint contact million announce  / just far people klobuchar day congress things first ; sparsity=0.0000\n",
      "sparsity in covariate interactions = 0.0000\n",
      "Dev perplexity = 466.0771\n",
      "Saving document representations\n"
     ]
    }
   ],
   "source": [
    "script = 'run_scholar.py'\n",
    "args = 'tutorial/congress/ -k 10 --epochs 150 --dev-folds 10 --seed 99 --topic-covars party --interactions'\n",
    "print(\"python\", script, args)\n",
    "run_scholar.main(args.split())"
   ]
  },
  {
   "cell_type": "markdown",
   "metadata": {},
   "source": [
    "First, let's look at the vectors learned for each party, then the topics, then the interactions."
   ]
  },
  {
   "cell_type": "code",
   "execution_count": 25,
   "metadata": {},
   "outputs": [
    {
     "name": "stdout",
     "output_type": "stream",
     "text": [
      "D: brundage efficient tuesday oil children veterans fuels vietor ; sparsity=0.0000\n",
      "R: releases demint graham mccain kevin grant browse grants ; sparsity=0.0000\n"
     ]
    }
   ],
   "source": [
    "topic_covars = np.load(os.path.join('output', 'beta_c.npz'))\n",
    "weights = topic_covars['beta']\n",
    "names = topic_covars['names']\n",
    "print_top_words(weights, vocab, topic_names=names, n_pos=8, n_neg=0);"
   ]
  },
  {
   "cell_type": "code",
   "execution_count": 26,
   "metadata": {},
   "outputs": [
    {
     "name": "stdout",
     "output_type": "stream",
     "text": [
      "0: iraq armed mission terrorists war troops forces reports ; sparsity=0.0000\n",
      "1: announce awarded residents respond durbin supports grants training ; sparsity=0.0000\n",
      "2: earmarks bills income insurance provisions costs million fund ; sparsity=0.0000\n",
      "3: armed veterans families army returning back men duty ; sparsity=0.0000\n",
      "4: coburn room sanders citizen lower bernie tom vermont ; sparsity=0.0000\n",
      "5: announces announced bishop wes awarded lead relases press ; sparsity=0.0000\n",
      "6: court judiciary statement nomination supreme ortiz newsletters judge ; sparsity=0.0000\n",
      "7: fuel fuels renewable production sources oil alternative illegal ; sparsity=0.0000\n",
      "8: democracy troops iraq freedom war region resolution statement ; sparsity=0.0000\n",
      "9: river land project klobuchar minnesota development south natural ; sparsity=0.0000\n"
     ]
    }
   ],
   "source": [
    "beta = np.load(os.path.join('output', 'beta.npz'))['beta']\n",
    "print_top_words(beta, vocab, n_pos=8, n_neg=0);"
   ]
  },
  {
   "cell_type": "code",
   "execution_count": 27,
   "metadata": {},
   "outputs": [
    {
     "name": "stdout",
     "output_type": "stream",
     "text": [
      "0:D: reports defense service review armed members military receiving ; sparsity=0.0000\n",
      "0:R: terrorists rather beginning mission iraq just iraqi region ; sparsity=0.0000\n",
      "1:D: illinois durbin newsletters request affected dear delegation dick ; sparsity=0.0000\n",
      "1:R: grants awarded amount supports announce kind training demint ; sparsity=0.0000\n",
      "2:D: low program insurance families income affordable housing relief ; sparsity=0.0000\n",
      "2:R: earmarks rather coburn unfortunately largest included projects contains ; sparsity=0.0000\n",
      "3:D: returning veterans minnesota affairs klobuchar soldiers field lives ; sparsity=0.0000\n",
      "3:R: armed defense terrorism freedom terror country far part ; sparsity=0.0000\n",
      "4:D: sanders bernie vermont told lower http paying news ; sparsity=0.0000\n",
      "4:R: coburn room citizen per tom spending released agencies ; sparsity=0.0000\n",
      "5:D: consumer lead safety dear sincerely text commission consumers ; sparsity=0.0000\n",
      "5:R: hickman lindsey kevin awarded bishop announces record wes ; sparsity=0.0000\n",
      "6:D: pursuant polls newsletters alerts petitions opinion ortiz barack ; sparsity=0.0000\n",
      "6:R: court supreme judiciary nomination judge man experience position ; sparsity=0.0000\n",
      "7:D: fuel fuels renewable energy sources gas reduce oil ; sparsity=0.0000\n",
      "7:R: legal immigration get judiciary illegal period back wes ; sparsity=0.0000\n",
      "8:D: troops war bring terrorism iraq failed change united ; sparsity=0.0000\n",
      "8:R: democracy hickman wes terror bishop press kevin record ; sparsity=0.0000\n",
      "9:D: minnesota klobuchar cities works river funding residents project ; sparsity=0.0000\n",
      "9:R: jim development south carolina demint contact million announce ; sparsity=0.0000\n"
     ]
    }
   ],
   "source": [
    "interactions = np.load(os.path.join('output', 'beta_ci.npz'))\n",
    "weights = interactions['beta']\n",
    "names = topic_covars['names']\n",
    "names = [str(k) + ':' + c for k in range(10) for c in names]\n",
    "print_top_words(weights, vocab, topic_names=names, n_pos=8, n_neg=0);"
   ]
  },
  {
   "cell_type": "markdown",
   "metadata": {},
   "source": [
    "The basic topics here are now perhaps less good, but the interaction do seem to capture something about how the different parties talk about certain issues. For example, for topic 0 (Iraq), The Democrat version emphasizes reports and defense, whereas the Republican version is more about terrorsm. More data (from all the senators) would give us a much better approxaimation of this."
   ]
  },
  {
   "cell_type": "markdown",
   "metadata": {},
   "source": [
    "## Adding labels"
   ]
  },
  {
   "cell_type": "markdown",
   "metadata": {},
   "source": [
    "In addition to covariates, we can also introduce labels, which are predicted from the topics that are learned. Although they only introduce a subtle influence on the topic, we are effectively learning a classifier and a topic model simultaneously.\n",
    "\n",
    "Here, let's try predicting the party of a press release from the topics. We'll also try using slightly more topics this time."
   ]
  },
  {
   "cell_type": "code",
   "execution_count": 28,
   "metadata": {},
   "outputs": [
    {
     "name": "stdout",
     "output_type": "stream",
     "text": [
      "python run_scholar.py tutorial/congress/ -k 12 --epochs 150 --dev-folds 10 --seed 42 --topic-covars senator,month --label party\n",
      "Loading data\n",
      "Loaded 2483 documents with 1021 features\n",
      "Found 2483 non-empty documents\n",
      "Loading labels from tutorial/congress/train.party.csv\n",
      "Found 2 labels\n",
      "Loading covariates from tutorial/congress/train.senator.csv\n",
      "Loading covariates from tutorial/congress/train.month.csv\n",
      "Train label proportions: [0.54007249 0.45992751]\n",
      "Computing background frequencies\n",
      "Min/max word counts in training data: 90 5080\n",
      "Network architecture:\n",
      "embedding_dim: 300\n",
      "n_topics: 12\n",
      "vocab_size: 1021\n",
      "label_type: None\n",
      "n_labels: 2\n",
      "n_prior_covars: 0\n",
      "n_topic_covars: 18\n",
      "l1_beta_reg: 0.0\n",
      "l1_beta_c_reg: 0.0\n",
      "l1_beta_ci_reg: 0.0\n",
      "l2_prior_reg: 0.0\n",
      "classifier_layers: 1\n",
      "use_interactions: False\n",
      "Optimizing full model\n",
      "Epoch: 10 ; cost = 1147.348720201 ; training accuracy (noisy) = 0.666666667\n",
      "Epoch: 10; Dev perplexity = 937.5173; Dev accuracy = 0.7581\n",
      "Epoch: 20 ; cost = 1115.941738325 ; training accuracy (noisy) = 0.666219239\n",
      "Epoch: 20; Dev perplexity = 867.6058; Dev accuracy = 0.7500\n",
      "Epoch: 30 ; cost = 1086.522164910 ; training accuracy (noisy) = 0.661297539\n",
      "Epoch: 30; Dev perplexity = 764.9756; Dev accuracy = 0.7379\n",
      "Epoch: 40 ; cost = 1039.718342553 ; training accuracy (noisy) = 0.680536913\n",
      "Epoch: 40; Dev perplexity = 712.5168; Dev accuracy = 0.7298\n",
      "Epoch: 50 ; cost = 1071.692489863 ; training accuracy (noisy) = 0.680984340\n",
      "Epoch: 50; Dev perplexity = 666.2463; Dev accuracy = 0.7460\n",
      "Epoch: 60 ; cost = 1069.752997413 ; training accuracy (noisy) = 0.669351230\n",
      "Epoch: 60; Dev perplexity = 632.5305; Dev accuracy = 0.7621\n",
      "Epoch: 70 ; cost = 1051.215607304 ; training accuracy (noisy) = 0.709619687\n",
      "Epoch: 70; Dev perplexity = 606.4754; Dev accuracy = 0.7581\n",
      "Epoch: 80 ; cost = 1041.312520755 ; training accuracy (noisy) = 0.714093960\n",
      "Epoch: 80; Dev perplexity = 585.2562; Dev accuracy = 0.7742\n",
      "Epoch: 90 ; cost = 1099.018041282 ; training accuracy (noisy) = 0.691275168\n",
      "Epoch: 90; Dev perplexity = 565.3065; Dev accuracy = 0.7782\n",
      "Epoch: 100 ; cost = 1056.035959129 ; training accuracy (noisy) = 0.714093960\n",
      "Epoch: 100; Dev perplexity = 547.8801; Dev accuracy = 0.7782\n",
      "Epoch: 110 ; cost = 1065.773876625 ; training accuracy (noisy) = 0.732885906\n",
      "Epoch: 110; Dev perplexity = 533.9341; Dev accuracy = 0.7944\n",
      "Epoch: 120 ; cost = 1055.364812727 ; training accuracy (noisy) = 0.718120805\n",
      "Epoch: 120; Dev perplexity = 508.8396; Dev accuracy = 0.8145\n",
      "Epoch: 130 ; cost = 1024.947386876 ; training accuracy (noisy) = 0.725727069\n",
      "Epoch: 130; Dev perplexity = 488.1591; Dev accuracy = 0.8105\n",
      "Epoch: 140 ; cost = 1081.332379710 ; training accuracy (noisy) = 0.705592841\n",
      "Epoch: 140; Dev perplexity = 472.7463; Dev accuracy = 0.7984\n",
      "Background frequencies of top words:\n",
      "obama senator bill said senate today graham washington press president\n",
      "[0.01298087 0.01290677 0.00907639 0.00863688 0.00794695 0.00677663\n",
      " 0.00639589 0.00639589 0.00609181 0.00601004]\n",
      "Topics:\n",
      "0: transparency taxpayers accountability taxpayer financial dollars companies federal  / great war infrastructure bush region human terror challenges ; sparsity=0.0000\n",
      "1: lead products consumer commission trade safety dangerous free  / funds awarded receive training average cost funding programs ; sparsity=0.0000\n",
      "2: health care insurance costs tax income priorities americans  / general follow commitment durbin security staff conduct browse ; sparsity=0.0000\n",
      "3: projects recovery disaster assistance damage counties infrastructure funds  / care serve health comprehensive policies strengthen laws americans ; sparsity=0.0000\n",
      "4: veterans returning benefits affairs defense members guard duty  / interest people companies economy industry citizens businesses market ; sparsity=0.0000\n",
      "5: announces relases announced record press browse releases wes  / amendment cost percent bill provisions additional without billion ; sparsity=0.0000\n",
      "6: grants training awarded departments grant equipment announce receive  / issue senate reform vote legislation provisions passed last ; sparsity=0.0000\n",
      "7: supreme court judge don judiciary values let legal  / funds additional bill awarded funding provide million programs ; sparsity=0.0000\n",
      "8: gas energy oil renewable environment fuel vehicles fuels  / office election ortiz ask days polls care reports ; sparsity=0.0000\n",
      "9: immigration troops iraq illegal border security war failed  / federal health access used announced awarded grant project ; sparsity=0.0000\n",
      "10: sincerely letter dear text workers writing sent hearing  / bill ever introduce funds spending troops generation amendment ; sparsity=0.0000\n",
      "11: statement pursuant newsletters ortiz alerts polls petitions released  / percent health average based care increase problem credit ; sparsity=0.0000\n",
      "sparsity in topics = 0.0000\n",
      "Covariate deviations:\n",
      "Coburn: citizen coburn tom room per released earmarks spending  / releases browse carolina klobuchar obama graham sanders hickman ; sparsity=0.0000\n",
      "Graham: kevin releases carolina browse relases hickman graham south  / tommy obama release thursday gibbs klobuchar green barack ; sparsity=0.0000\n",
      "Klobuchar: klobuchar minnesota commerce amy secured beyond serves consumers  / releases carolina browse contact gibbs tommy press polls ; sparsity=0.0000\n",
      "McCain: mccain browse john though freedom record simply democracy  / tommy contact gibbs graham klobuchar hickman vietor wes ; sparsity=0.0000\n",
      "Obama: gibbs tommy obama labolt release polls vietor julian  / releases carolina relases press record lindsey graham sanders ; sparsity=0.0000\n",
      "Sanders: vermont http sanders sen bernie read paying food  / alerts obama relases browse contact barack tommy releases ; sparsity=0.0000\n",
      "Apr: april location temporary price prices drug lower clearly  / september august july june brundage amy gibbs terror ; sparsity=0.0000\n",
      "Aug: august grant receive transportation purchase monday illinois cities  / petitions expected clinton initiated brundage election continues join ; sparsity=0.0000\n",
      "Dec: december farm farmers newsletters alerts contains provision electronic  / taking labolt june applaud ben offer august company ; sparsity=0.0000\n",
      "Feb: february cut message budget open bipartisan affected responsible  / along august july september york brundage received june ; sparsity=0.0000\n",
      "Jan: january economic class pleased judiciary judge essential let  / july october september estimated labolt city amy brundage ; sparsity=0.0000\n",
      "Jul: july goes truly freedom quality improving strengthen debt  / brundage november october february amy september location august ; sparsity=0.0000\n",
      "Jun: june union investment initiative laws illinois system existing  / august october amy brundage march february september january ; sparsity=0.0000\n",
      "Mar: march billions subject budget rates alone resolution paid  / june brundage july september october august look supreme ; sparsity=0.0000\n",
      "May: immigration committed aid helps alternative reform months nothing  / september july brundage june increases august amy follow ; sparsity=0.0000\n",
      "Nov: november brundage win commitment projects republican petitions veto  / july ortiz labolt noted thousands march ben later ; sparsity=0.0000\n",
      "Oct: october brundage amy specifically civil human reported days  / labolt polls ortiz electronic period pursuant election initiated ; sparsity=0.0000\n",
      "Sep: september chief brundage terror something terrorists justice view  / labolt alerts ben ortiz petitions electronic pursuant january ; sparsity=0.0000\n",
      "sparsity in covariates = 0.0000\n",
      "Dev perplexity = 463.9336\n",
      "Predicting labels\n",
      "train accuracy on labels = 0.8036\n",
      "dev accuracy on labels = 0.7823\n",
      "Label probabilities based on topics\n",
      "Labels: D R\n",
      "0: 0.5546 0.4454 \n",
      "1: 0.6279 0.3721 \n",
      "2: 0.7201 0.2799 \n",
      "3: 0.6770 0.3230 \n",
      "4: 0.8074 0.1926 \n",
      "5: 0.0095 0.9905 \n",
      "6: 0.0790 0.9210 \n",
      "7: 0.1605 0.8395 \n",
      "8: 0.8879 0.1121 \n",
      "9: 0.2025 0.7975 \n",
      "10: 0.9190 0.0810 \n",
      "11: 0.9854 0.0146 \n",
      "Saving document representations\n"
     ]
    }
   ],
   "source": [
    "script = 'run_scholar.py'\n",
    "args = 'tutorial/congress/ -k 12 --epochs 150 --dev-folds 10 --seed 42 --topic-covars senator,month --label party'\n",
    "print(\"python\", script, args)\n",
    "run_scholar.main(args.split())"
   ]
  },
  {
   "cell_type": "markdown",
   "metadata": {},
   "source": [
    "First let's look at the topics as usual"
   ]
  },
  {
   "cell_type": "code",
   "execution_count": 29,
   "metadata": {},
   "outputs": [
    {
     "name": "stdout",
     "output_type": "stream",
     "text": [
      "0: transparency taxpayers accountability taxpayer financial dollars companies federal ; sparsity=0.0000\n",
      "1: lead products consumer commission trade safety dangerous free ; sparsity=0.0000\n",
      "2: health care insurance costs tax income priorities americans ; sparsity=0.0000\n",
      "3: projects recovery disaster assistance damage counties infrastructure funds ; sparsity=0.0000\n",
      "4: veterans returning benefits affairs defense members guard duty ; sparsity=0.0000\n",
      "5: announces relases announced record press browse releases wes ; sparsity=0.0000\n",
      "6: grants training awarded departments grant equipment announce receive ; sparsity=0.0000\n",
      "7: supreme court judge don judiciary values let legal ; sparsity=0.0000\n",
      "8: gas energy oil renewable environment fuel vehicles fuels ; sparsity=0.0000\n",
      "9: immigration troops iraq illegal border security war failed ; sparsity=0.0000\n",
      "10: sincerely letter dear text workers writing sent hearing ; sparsity=0.0000\n",
      "11: statement pursuant newsletters ortiz alerts polls petitions released ; sparsity=0.0000\n"
     ]
    }
   ],
   "source": [
    "beta = np.load(os.path.join('output', 'beta.npz'))['beta']\n",
    "print_top_words(beta, vocab, n_pos=8, n_neg=0);"
   ]
  },
  {
   "cell_type": "markdown",
   "metadata": {},
   "source": [
    "Now let's look at which topics predict Democrat vs Republican."
   ]
  },
  {
   "cell_type": "code",
   "execution_count": 30,
   "metadata": {},
   "outputs": [
    {
     "name": "stdout",
     "output_type": "stream",
     "text": [
      "Labels: D R\n",
      "0: 0.5546 0.4454 \n",
      "1: 0.6279 0.3721 \n",
      "2: 0.7201 0.2799 \n",
      "3: 0.6770 0.3230 \n",
      "4: 0.8074 0.1926 \n",
      "5: 0.0095 0.9905 \n",
      "6: 0.0790 0.9210 \n",
      "7: 0.1605 0.8395 \n",
      "8: 0.8879 0.1121 \n",
      "9: 0.2025 0.7975 \n",
      "10: 0.9190 0.0810 \n",
      "11: 0.9854 0.0146 \n"
     ]
    }
   ],
   "source": [
    "npz = np.load('output/topics_to_labels.npz')\n",
    "probs = npz['probs']\n",
    "label_names = npz['label']\n",
    "n_topics, n_labels = probs.shape\n",
    "print(\"Labels:\", ' '.join([name for name in label_names]))\n",
    "for k in range(n_topics):\n",
    "    output = str(k) + ': '\n",
    "    for i in range(n_labels):\n",
    "        output += '%.4f ' % probs[k, i]\n",
    "    print(output)\n"
   ]
  },
  {
   "cell_type": "markdown",
   "metadata": {},
   "source": [
    "These numbers show the probability (according to the model) that a document entirely about a single topic is from a Democrat vs a Republican. Of course, in practice, most documents will be represented as a mixture of topics, and both parties talk about all topics to some degree.\n",
    "\n",
    "More expertise would be useful in trying to interpret whether the model is doing something reasonable here, but at least some parts seem to line up (e.g. Democrats talking more about health care (topic 2) and Republicans talking more about illegal immigrtion / Iraq (topic 9), but others seem to be overfitting to particular people (e.g. topics 5, 6, and 11). As above, using data from more Senators would be very useful here."
   ]
  },
  {
   "cell_type": "markdown",
   "metadata": {},
   "source": [
    "Ultimately, exploration of different models is requried to figure out what is best for your application. Also, remember than trying a different random seed will give you different results."
   ]
  },
  {
   "cell_type": "code",
   "execution_count": null,
   "metadata": {},
   "outputs": [],
   "source": []
  }
 ],
 "metadata": {
  "kernelspec": {
   "display_name": "Python 3",
   "language": "python",
   "name": "python3"
  },
  "language_info": {
   "codemirror_mode": {
    "name": "ipython",
    "version": 3
   },
   "file_extension": ".py",
   "mimetype": "text/x-python",
   "name": "python",
   "nbconvert_exporter": "python",
   "pygments_lexer": "ipython3",
   "version": "3.7.7"
  }
 },
 "nbformat": 4,
 "nbformat_minor": 2
}
